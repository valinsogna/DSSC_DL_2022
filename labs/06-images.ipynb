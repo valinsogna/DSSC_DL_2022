{
 "cells": [
  {
   "cell_type": "markdown",
   "metadata": {},
   "source": [
    "# Lab 6 - Image, Datasets, Dataloaders, Augmentation\n",
    "\n",
    "## Part I - Images\n",
    "\n",
    "Images in Python are usually represented as ndarrays. PyTorch, of course, supports also the image as a Tensor.\n",
    "\n",
    "Depending upon the library, images may be encoded differently:\n",
    "* PIL uses, by default, the RGB encoding. The image can be represented as a $h\\times w\\times 3$ ndarray by calling the `.asarray()` method of numpy\n",
    "* opencv uses, by default, the BGR encoding (reverse than RGB). The image, in Python, is directly stored as a $h\\times w\\times 3$ ndarray.\n",
    "* PyTorch prefers images to be stored as $3\\times h\\times w$ tensors.\n",
    "\n",
    "### Reading an image\n",
    "\n",
    "* With PIL, images can be read with the `PIL.Image.open(path)` method\n",
    "* torchvision, a subpackage of PyTorch for Computer Vision, has a method `io.read_image(path)` for reading images as JPEG or PNG. For other formats, we must resort to PIL."
   ]
  },
  {
   "cell_type": "code",
   "execution_count": null,
   "metadata": {},
   "outputs": [],
   "source": [
    "import torchvision\n",
    "import torch\n",
    "from PIL import Image\n",
    "import numpy as np\n",
    "import os\n",
    "\n",
    "img = Image.open(\"imgs/02/compgra1.jpg\")\n",
    "print(type(img)) # the image is a type on its own\n",
    "img # I can visualize the image directly like this. No need for matplotlib or other auxiliary libs"
   ]
  },
  {
   "cell_type": "markdown",
   "metadata": {},
   "source": [
    "to print the raw content of an image, we must call `np.asarray` on it."
   ]
  },
  {
   "cell_type": "code",
   "execution_count": null,
   "metadata": {},
   "outputs": [],
   "source": [
    "img_array = np.asarray(img)\n",
    "print(img_array.shape)\n",
    "img_array"
   ]
  },
  {
   "cell_type": "code",
   "execution_count": null,
   "metadata": {},
   "outputs": [],
   "source": [
    "img_torch = torchvision.io.read_image(\"imgs/03/dataloader01.jpg\")\n",
    "print(type(img_torch), img_torch.shape, \"\\n\", img_torch)\n",
    "# this time the image IS a tensor\n",
    "# take a look at the shape"
   ]
  },
  {
   "cell_type": "markdown",
   "metadata": {},
   "source": [
    "#### Visualizing the image from a Tensor\n",
    "\n",
    "In order to visualize the image, we can convert it to a PIL Image. But how?"
   ]
  },
  {
   "cell_type": "code",
   "execution_count": null,
   "metadata": {},
   "outputs": [],
   "source": [
    "def tensor2PIL(tensor:torch.Tensor):\n",
    "    \n",
    "    # your code here"
   ]
  },
  {
   "cell_type": "markdown",
   "metadata": {},
   "source": [
    "## Datasets\n",
    "\n",
    "For this lab, we will use a custom dataset for classifying cats and dogs. It is a subset of the famous dataset from the [cats vs. dogs Kaggle challenge](https://www.kaggle.com/competitions/dogs-vs-cats/). You can find it in `data/catsdogs`."
   ]
  },
  {
   "cell_type": "code",
   "execution_count": null,
   "metadata": {},
   "outputs": [],
   "source": [
    "catsdogs_viz = [Image.open(os.path.join(\"data/catsdogs\", im)) for im in os.listdir(\"data/catsdogs\") if im.endswith(\".jpg\")]\n",
    "print(\"Tot images\", len(catsdogs_viz))"
   ]
  },
  {
   "cell_type": "markdown",
   "metadata": {},
   "source": [
    "Let's have a look at the data"
   ]
  },
  {
   "cell_type": "code",
   "execution_count": null,
   "metadata": {},
   "outputs": [],
   "source": [
    "catsdogs_viz[1]"
   ]
  },
  {
   "cell_type": "code",
   "execution_count": null,
   "metadata": {},
   "outputs": [],
   "source": [
    "catsdogs_viz[2]"
   ]
  },
  {
   "cell_type": "markdown",
   "metadata": {},
   "source": [
    "### Building a custom dataset\n",
    "\n",
    "Let us use our knowledge to build a custom dataset out of these images"
   ]
  },
  {
   "cell_type": "code",
   "execution_count": null,
   "metadata": {},
   "outputs": [],
   "source": [
    "class CatsVsDogsDataset(torch.utils.data.Dataset):\n",
    "    def __init__(self, root):\n",
    "        self.data = [torchvision.io.read_image(os.path.join(root, im)) for im in sorted(os.listdir(root)) if im.endswith(\".jpg\")]\n",
    "        self.labels = self._get_labels(os.path.join(root, \"labels.txt\"))\n",
    "    \n",
    "    def _get_labels(self, txt_path):\n",
    "        with open(txt_path, \"r\") as f:\n",
    "            labels = [int(line.strip()) for line in f]\n",
    "        return labels\n",
    "    \n",
    "    def __len__(self):\n",
    "        return len(self.data)\n",
    "    \n",
    "    def __getitem__(self, index):\n",
    "        return self.data[index], self.labels[index]"
   ]
  },
  {
   "cell_type": "markdown",
   "metadata": {},
   "source": [
    "now, the lazy version..."
   ]
  },
  {
   "cell_type": "code",
   "execution_count": null,
   "metadata": {},
   "outputs": [],
   "source": [
    "class CatsVsDogsDatasetLazy(torch.utils.data.Dataset):\n",
    "    def __init__(self, root):\n",
    "        self.data = [os.path.join(root, im) for im in sorted(os.listdir(root)) if im.endswith(\".jpg\")]\n",
    "        self.labels = self._get_labels(os.path.join(root, \"labels.txt\"))\n",
    "    \n",
    "    def _get_labels(self, txt_path):\n",
    "        with open(txt_path, \"r\") as f:\n",
    "            labels = [int(line.strip()) for line in f]\n",
    "        return labels\n",
    "    \n",
    "    def __len__(self):\n",
    "        return len(self.data)\n",
    "    \n",
    "    def __getitem__(self, index):\n",
    "        return torchvision.io.read_image(self.data[index]), self.labels[index]"
   ]
  },
  {
   "cell_type": "markdown",
   "metadata": {},
   "source": [
    "let us try the new dataset:"
   ]
  },
  {
   "cell_type": "code",
   "execution_count": null,
   "metadata": {},
   "outputs": [],
   "source": [
    "dataset = CatsVsDogsDataset(\"data/catsdogs\")\n",
    "\n",
    "print(dataset.data)\n",
    "print(dataset.labels)\n",
    "print(len(dataset))\n",
    "first_data = dataset[0]\n",
    "print(type(first_data))"
   ]
  },
  {
   "cell_type": "markdown",
   "metadata": {},
   "source": [
    "## Part II - DataLoaders\n",
    "\n",
    "DataLoaders can be quickly constructed from a Dataset..."
   ]
  },
  {
   "cell_type": "code",
   "execution_count": null,
   "metadata": {},
   "outputs": [],
   "source": [
    "dataloader = torch.utils.data.DataLoader(dataset, batch_size=2, shuffle=True)"
   ]
  },
  {
   "cell_type": "markdown",
   "metadata": {},
   "source": [
    "let us loop through the dataloader:"
   ]
  },
  {
   "cell_type": "code",
   "execution_count": null,
   "metadata": {},
   "outputs": [],
   "source": [
    "list_of_images = []\n",
    "for imgs, labels in dataloader:\n",
    "    print(imgs.shape, labels)\n",
    "    for img in imgs:\n",
    "        list_of_images.append(tensor2PIL(img))"
   ]
  },
  {
   "cell_type": "markdown",
   "metadata": {},
   "source": [
    "**Q**: Do you notice something different w.r.t. what we saw before?"
   ]
  },
  {
   "cell_type": "code",
   "execution_count": null,
   "metadata": {},
   "outputs": [],
   "source": [
    "list_of_images[0]"
   ]
  },
  {
   "cell_type": "code",
   "execution_count": null,
   "metadata": {},
   "outputs": [],
   "source": [
    "list_of_images[4]"
   ]
  },
  {
   "cell_type": "markdown",
   "metadata": {},
   "source": [
    "## Part III - Data Augmentation\n",
    "\n",
    "From the lecture, we know that we can construct custom augmentation pipelines using torchvision.\n",
    "\n",
    "Let us quickly implement augmentability in our (non-lazy) dataset"
   ]
  },
  {
   "cell_type": "code",
   "execution_count": null,
   "metadata": {},
   "outputs": [],
   "source": [
    "class CatsVsDogsDatasetAugmentable(CatsVsDogsDataset):\n",
    "    def __init__(self, root, transform=None):\n",
    "        super().__init__(root)\n",
    "        self.transform = transform\n",
    "    \n",
    "    def __getitem__(self, index):\n",
    "        img, label = super().__getitem__(index)\n",
    "        if self.transform:\n",
    "            img = self.transform(img)\n",
    "        return img, label"
   ]
  },
  {
   "cell_type": "markdown",
   "metadata": {},
   "source": [
    "**Q**: What about the `__len__` method?"
   ]
  },
  {
   "cell_type": "code",
   "execution_count": null,
   "metadata": {},
   "outputs": [],
   "source": [
    "transform_pipeline = torchvision.transforms.Compose([\n",
    "    torchvision.transforms.RandomHorizontalFlip(),\n",
    "    torchvision.transforms.RandomRotation(degrees=15),\n",
    "])\n",
    "\n",
    "aug_dataset = CatsVsDogsDatasetAugmentable(\"data/catsdogs\", transform=transform_pipeline)"
   ]
  },
  {
   "cell_type": "code",
   "execution_count": null,
   "metadata": {},
   "outputs": [],
   "source": [
    "tensor2PIL(aug_dataset.data[0])"
   ]
  },
  {
   "cell_type": "code",
   "execution_count": null,
   "metadata": {},
   "outputs": [],
   "source": [
    "tensor2PIL(aug_dataset[0][0])"
   ]
  },
  {
   "cell_type": "markdown",
   "metadata": {},
   "source": [
    "**Q**: What is the difference between the two code snippets here above?"
   ]
  },
  {
   "cell_type": "markdown",
   "metadata": {},
   "source": [
    "#### Problem to solve:\n",
    "\n",
    "* Suppose we have a dataset composed of $n$ images\n",
    "* As opposed to the cats vs dogs example we saw before, the images don't have a common size $h\\times w$\n",
    "* **What are my possibilities for training an ANN on this dataset?**"
   ]
  },
  {
   "cell_type": "markdown",
   "metadata": {},
   "source": [
    "# End of \"compulsory\" lab. Next we have some optional suggestions for loading datasets doing and data augmentation in PyTorch"
   ]
  },
  {
   "cell_type": "markdown",
   "metadata": {},
   "source": [
    "#### The \"compulsory\" augmentations: how to do them on our dataset\n",
    "\n",
    "```\n",
    "pipeline = T.Compose([\n",
    "\t…,\n",
    "\tT.ToTensor(),\n",
    "\tT.Normalize(mean=mean, std=std)\n",
    "])\n",
    "\n",
    "```\n",
    "\n",
    "Essentially, we need to calculate `mean` and `std`.\n",
    "\n",
    "We have our data in  `dataset.data`. What can we do to get mean and std?"
   ]
  },
  {
   "cell_type": "code",
   "execution_count": null,
   "metadata": {},
   "outputs": [],
   "source": [
    "# your code here"
   ]
  },
  {
   "cell_type": "markdown",
   "metadata": {},
   "source": [
    "### Train/Test splitting in PyTorch\n",
    "\n",
    "We can apply a train/test split by using the `torch.utils.data.random_split` method"
   ]
  },
  {
   "cell_type": "code",
   "execution_count": null,
   "metadata": {},
   "outputs": [],
   "source": [
    "pct_train = .7\n",
    "len_train = int(len(aug_dataset) * pct_train)\n",
    "len_test = len(aug_dataset) - len_train\n",
    "trainset, testset = torch.utils.data.random_split(aug_dataset, [len_train, len_test])"
   ]
  },
  {
   "cell_type": "markdown",
   "metadata": {},
   "source": [
    "Notice that now, the `trainset` and `aug_dataset` are of two different types!"
   ]
  },
  {
   "cell_type": "code",
   "execution_count": null,
   "metadata": {},
   "outputs": [],
   "source": [
    "print(type(aug_dataset), type(trainset), type(testset))"
   ]
  },
  {
   "cell_type": "markdown",
   "metadata": {},
   "source": [
    "we can recover the original dataset by accessing the `dataset` attribute of `torch.utils.data.dataset.Subset`"
   ]
  },
  {
   "cell_type": "code",
   "execution_count": null,
   "metadata": {},
   "outputs": [],
   "source": [
    "trainset.dataset.labels"
   ]
  },
  {
   "cell_type": "markdown",
   "metadata": {},
   "source": [
    "Despite the difference, both `trainset` and `aug_dataset` can be equally used to create DataLoaders...\n"
   ]
  },
  {
   "cell_type": "markdown",
   "metadata": {},
   "source": [
    "## Miscellaneous dataset helps\n",
    "\n",
    "### ImageFolder\n",
    "\n",
    "It often happens that datasets are distributed with the following folder structure:\n",
    "\n",
    "```\n",
    "root_folder\n",
    "  |\n",
    "  - class 0\n",
    "    |\n",
    "    - images belonging to class 0\n",
    "  |\n",
    "  ...\n",
    "  |\n",
    "  - class i\n",
    "    |\n",
    "    - images belonging to class i\n",
    "  |\n",
    "  ...\n",
    "```\n",
    "without a corresponding `labels.txt` file (or similar file.)\n",
    "\n",
    "\n",
    "When the situation is this one, without building exotic custom classes, we can use the `torchvision.datasets.ImageFolder(...)` class that automatically builds a (lazy) dataset for us.\n",
    "\n",
    "### Downloading widespread benchmark datasets\n",
    "\n",
    "To download benchmark datasets like\n",
    "* MNIST\n",
    "* Cifar10 and Cifar100\n",
    "* Fashion-MNIST\n",
    "* Microsoft COCO\n",
    "* ...\n",
    "\n",
    "we can use the corresponding [`torchvision.datasets`](https://pytorch.org/vision/0.8/datasets.html) classes. Just a couple of notes:\n",
    "* remember to set, preferrably, the flag `download` to True in the constructor (otherwise the dataset won't donwload)\n",
    "* ImageNet won't download because of recent controversies on fairness and privacy. If you need it, download it (at your home) from [here](https://academictorrents.com/details/a306397ccf9c2ead27155983c254227c0fd938e2)"
   ]
  },
  {
   "cell_type": "markdown",
   "metadata": {},
   "source": [
    "## References\n",
    "\n",
    "* Pillow docs: https://pillow.readthedocs.io/en/stable/\n",
    "* torch tutorial on datasets and dataloaders: https://pytorch.org/tutorials/beginner/basics/data_tutorial.html#datasets-dataloaders\n",
    "* torchvision tutorials and docs\n",
    "    * IO: https://pytorch.org/vision/0.8/io.html\n",
    "    * Datasets: https://pytorch.org/vision/stable/datasets.html\n",
    "    * Transformations: https://pytorch.org/vision/stable/transforms.html\n",
    "    \n",
    "#### Additional material\n",
    "\n",
    "* Albumentations, library for more advanced data augmentation: https://albumentations.ai/\n"
   ]
  }
 ],
 "metadata": {
  "interpreter": {
   "hash": "2b77c29885b974dcfddc958349edd2398568367665d9f0a08534c65bb7a1b37b"
  },
  "kernelspec": {
   "display_name": "Python 3.8.12 ('lot')",
   "language": "python",
   "name": "python3"
  },
  "language_info": {
   "codemirror_mode": {
    "name": "ipython",
    "version": 3
   },
   "file_extension": ".py",
   "mimetype": "text/x-python",
   "name": "python",
   "nbconvert_exporter": "python",
   "pygments_lexer": "ipython3",
   "version": "3.8.12"
  },
  "orig_nbformat": 4
 },
 "nbformat": 4,
 "nbformat_minor": 2
}
