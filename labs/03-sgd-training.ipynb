{
 "cells": [
  {
   "cell_type": "markdown",
   "metadata": {},
   "source": [
    "### Recap from previous Lab\n",
    "\n",
    "* We explored PyTorch (PT) tensor support and drew parallelisms w.r.t. NumPy `ndarray`\n",
    "* We experimented with some basic Machine Learning (ML) building blocks in PT\n",
    "* We built our first, very simple Artificial Neural Network (ANN), a MultiLayer Perceptron (MLP)\n",
    "\n",
    "### Agenda for today\n",
    "\n",
    "* Today we will be training a MLP using SGD and backpropagation\n",
    "  * we will not be using the synthetic dataset we saw last lecture\n",
    "  * we will be training our MLP on the MNIST dataset, which is a simple (in modern terms) dataset on which to train our ANNs. Due to this reputation, this problem is also called the *Hello World of Deep Learning*"
   ]
  },
  {
   "cell_type": "markdown",
   "metadata": {},
   "source": [
    "### Intro to MNIST\n",
    "\n",
    "MNIST is a dataset for **handwritten digit recognition**.\n",
    "\n",
    "![](imgs/03/mnist.png)\n",
    "\n",
    "* The dataset is composed of 60,000 grayscale images\n",
    "  * by default, the dataset is already split into a training set of 50,000 images, while the remaining 10,000 images make up the test/validation set\n",
    "* Each image is composed of 28x28 pixel\n",
    "* Only one digit is present in each image\n",
    "  * thus, we will be classifying digits from 0 to 9 (10 classes)\n",
    "* The digit is centered within the image"
   ]
  },
  {
   "cell_type": "markdown",
   "metadata": {},
   "source": [
    "#### Downloading the data\n",
    "\n",
    "Since we're not covering the handling of data in this specific tutorial, I have prepared an external script which will download the data and \"pack\" it into DataLoaders.\n",
    "You just need to know that DataLoaders and Datasets are two different entities; namely, DataLoaders are build on top of Datasets and handle the creation of the mini-batches that will later be fed into the MLP for the training and testing phase.\n",
    "\n",
    "![](imgs/03/dataloader01.jpg)\n",
    "\n",
    "The script returns the DataLoaders for both the training and the testing splits."
   ]
  },
  {
   "cell_type": "code",
   "execution_count": null,
   "metadata": {},
   "outputs": [],
   "source": [
    "import torch\n",
    "from scripts import mnist\n",
    "from matplotlib import pyplot as plt\n",
    "\n",
    "minibatch_size_train = 256\n",
    "minibatch_size_test = 512\n",
    "\n",
    "trainloader, testloader = mnist.get_data(batch_size_train=minibatch_size_test, batch_size_test=minibatch_size_test)"
   ]
  },
  {
   "cell_type": "markdown",
   "metadata": {},
   "source": [
    "Let us quickly view our data.\n",
    "\n",
    "The dataset is an attribute of the dataloader. From here, we can access all the images of our dataset (at least for what concerns small datasets like MNIST; larger datasets are treated a little differently, we'll see more on that in the future labs).\n",
    "\n",
    "The images are stored within the `data` attribute, while the labels lay in the `targets` attribute."
   ]
  },
  {
   "cell_type": "code",
   "execution_count": null,
   "metadata": {},
   "outputs": [],
   "source": [
    "plt.imshow(trainloader.dataset.data[15].numpy(), cmap=\"gray\")\n",
    "\n",
    "print(\"The label is\", trainloader.dataset.targets[15].item())"
   ]
  },
  {
   "cell_type": "markdown",
   "metadata": {},
   "source": [
    "By applying the `Tensor` skills we learned during the previous lab, we may also plot multiple images within the same plot.\n"
   ]
  },
  {
   "cell_type": "code",
   "execution_count": null,
   "metadata": {},
   "outputs": [],
   "source": [
    "multi_img = trainloader.dataset.data[25:30]\n",
    "multi_img.shape"
   ]
  },
  {
   "cell_type": "markdown",
   "metadata": {},
   "source": [
    "We have a (5 x 28 x 28) `Tensor`, we can't plot it with `plt.imshow` because, for grayscale images, it needs a matrix as input.\n",
    "\n",
    "**Q**: how can we solve this problem? Think about the methods we saw during the last lab"
   ]
  },
  {
   "cell_type": "code",
   "execution_count": null,
   "metadata": {},
   "outputs": [],
   "source": [
    "# solve here\n",
    "# shape 5*28 x 28\n",
    "multi_img_reshaped = # your code here\n",
    "plt.imshow(multi_img_reshaped.numpy(), cmap=\"gray\")"
   ]
  },
  {
   "cell_type": "markdown",
   "metadata": {},
   "source": [
    "#### Designing our MLP\n",
    "\n",
    "Let us design our MLP.\n",
    "\n",
    "We need to think about:\n",
    "\n",
    "1. How wide is the output layer?\n",
    "2. How wide is the input layer and how is it structured?\n",
    "3. How many hidden layers and how wide need they be?\n",
    "4. What activation functions will we be using?\n",
    "\n",
    "You may try answering questions 1 and 2 by yourself as there's only one specific answer.\n",
    "Q. 3 and 4, instead, are a choice operated by the designer (the data scientist) and there is no straight definite answer, as usually architectural features are treated as hyperparameters to be tuned as part of the training process.\n",
    "\n",
    "For our MLP, then, we will be designing an MLP with\n",
    "* 3 hidden layers\n",
    "  * the first hidden layer has 16 neurons\n",
    "  * the second hidden layer has 32 neurons\n",
    "  * the third hidden layer has 24 neurons\n",
    "* ReLU as activation function for the hidden layers ($ReLU(x) = \\max(0, x)$)\n",
    "* Cross Entropy loss (or, equivalently, Negative LogLikelihood loss)**\\*\\***\n",
    "\n",
    "**\\*\\*** _Notice that, if you use NLLLoss, PyTorch wants as output of the model the **log** softmax (i.e., the **log probabilities**) of assignment to the classes, not the regular probabilities. This is for stability issues._\n",
    "\n",
    "![](img/mlp_mnist.png)"
   ]
  },
  {
   "cell_type": "code",
   "execution_count": null,
   "metadata": {},
   "outputs": [],
   "source": [
    "# write here the class for your MLP\n",
    "class MLP(torch.nn.Module):\n",
    "    def __init__(self):\n",
    "        super().__init__()\n",
    "        self.flat = torch.nn.Flatten() # X comes in as a n x 1 x 28 x 28 -> we need n 784-size vectors (or, a n x 784 matrix). flatten does this\n",
    "        # your code here\n",
    "\n",
    "    def forward(self, X): \n",
    "        # your code here\n",
    "        out = X\n",
    "        return out"
   ]
  },
  {
   "cell_type": "markdown",
   "metadata": {},
   "source": [
    "#### The training loop\n",
    "\n",
    "We now have to train the network using mini-batch Stochastic Gradient Descent (which we'll indicate as SGD).\n",
    "\n",
    "The mini-batch part is already handled by the `DataLoader`.\n",
    "\n",
    "We just need to call\n",
    "\n",
    "\n",
    "```python\n",
    "for X, y in dataloader:\n",
    "    # do something\n",
    "```\n",
    "\n",
    "`X` and `y` represent our mini-batch (images and ground truth respectively).\n",
    "\n",
    "* What do we need to do inside this loop?\n",
    "  1. do the forward pass\n",
    "  2. calculate the loss\n",
    "  3. do the backward pass and update the parameters\n",
    "* What objects do we need inside this loop?\n",
    "  * the model (to do the forward pass)\n",
    "  * the dataloader (to get `X, y`)\n",
    "  * the loss function (to calculate the value of the loss and backpropagate)\n",
    "  * the optimizer (to upgrade the value of the parameters given the gradients obtained via backprop)\n",
    "* What do we need to do outside this loop?\n",
    "  1. re-shuffle the mini-batches (NB: already taken care of by the `DataLoader`)\n",
    "  2. repeat the loop for each epoch\n",
    "\n",
    "Next, we are going to implement this loop (which we'll call `train_epoch`) in a minimalistic setting, i.e., with no excessive feature or embellishment.\n",
    "  \n",
    "\n"
   ]
  },
  {
   "cell_type": "code",
   "execution_count": null,
   "metadata": {},
   "outputs": [],
   "source": [
    "def train_epoch(model, dataloader, loss_fn, optimizer):\n",
    "    for X, y in dataloader:\n",
    "        # 1. reset the gradients previously accumulated by the optimizer\n",
    "        #    this will avoid re-using gradients from previous loops\n",
    "        optimizer.zero_grad() \n",
    "        # 2. get the predictions from the current state of the model\n",
    "        #    this is the forward pass\n",
    "        y_hat = model(X)\n",
    "        # 3. calculate the loss on the current mini-batch\n",
    "        loss = loss_fn(y_hat, y)\n",
    "        # 4. execute the backward pass given the current loss\n",
    "        loss.backward()\n",
    "        # 5. update the value of the params\n",
    "        optimizer.step()"
   ]
  },
  {
   "cell_type": "markdown",
   "metadata": {},
   "source": [
    "#### Question (from last year's students): there's also a `model.zero_grad()` functionality. Is it the same as `optimizer.zero_grad()`?\n",
    "\n",
    "Quick answer: usually yes. I have always seen `optimizer.zero_grad()` but some people prefer the former. See [here](https://discuss.pytorch.org/t/whats-the-difference-between-optimizer-zero-grad-vs-nn-module-zero-grad/59233) for discussion."
   ]
  },
  {
   "cell_type": "markdown",
   "metadata": {},
   "source": [
    "To work, we just need to wrap this routine inside another loop which will repeat `train_epoch` for each epoch."
   ]
  },
  {
   "cell_type": "code",
   "execution_count": null,
   "metadata": {},
   "outputs": [],
   "source": [
    "def train_model(model, dataloader, loss_fn, optimizer, num_epochs):\n",
    "    # this is a useful switch that lets us pass to training phase to network evaluation\n",
    "    # we will see in a future lab why it is necessary - for now it does nothing in particular\n",
    "    model.train()\n",
    "    for epoch in range(num_epochs):\n",
    "        train_epoch(model, dataloader, loss_fn, optimizer)\n",
    "        print(f\"Epoch {epoch+1} completed.\") # this is just so we have an idea on where we are during the training"
   ]
  },
  {
   "cell_type": "markdown",
   "metadata": {},
   "source": [
    "We will use vanilla SGD with a learning rate of 0.001 and we'll run the training for 3 epochs.\n",
    "Moreover, we will use the Negative Log-Likelihood (NLL) loss function."
   ]
  },
  {
   "cell_type": "code",
   "execution_count": null,
   "metadata": {},
   "outputs": [],
   "source": [
    "learn_rate = 0.1 # for SGD\n",
    "num_epochs = 3"
   ]
  },
  {
   "cell_type": "code",
   "execution_count": null,
   "metadata": {},
   "outputs": [],
   "source": [
    "model = MLP()\n",
    "loss_fn = torch.nn.CrossEntropyLoss()\n",
    "optimizer = torch.optim.SGD(model.parameters(), lr=learn_rate)"
   ]
  },
  {
   "cell_type": "markdown",
   "metadata": {},
   "source": [
    "##### Training on GPU\n",
    "\n",
    "Training on GPU requires three variables to reside on the same GPU:\n",
    "\n",
    "1. the data\n",
    "2. the labels\n",
    "3. the parameters\n",
    "\n",
    "they all can be achieved by calling the `.to(<device>)` method, which exists for both tensors and modules.\n",
    "In the case for tensors, it does not operate in-place, but in the case of modules, the function moves all of the parameters without needing assignment."
   ]
  },
  {
   "cell_type": "code",
   "execution_count": null,
   "metadata": {},
   "outputs": [],
   "source": [
    "device = \"cuda:0\" if torch.cuda.is_available() else \"cpu\"\n",
    "\n",
    "print(f\"We will use {device}\")"
   ]
  },
  {
   "cell_type": "code",
   "execution_count": null,
   "metadata": {},
   "outputs": [],
   "source": [
    "def train_epoch(model, dataloader, loss_fn, optimizer, device):\n",
    "    for X, y in dataloader:\n",
    "        ##### MOVE DATA AND LABELS TO THE DESIRED DEVICE #####\n",
    "        X = X.to(device)\n",
    "        y = y.to(device)\n",
    "        \n",
    "        # 1. reset the gradients previously accumulated by the optimizer\n",
    "        #    this will avoid re-using gradients from previous loops\n",
    "        optimizer.zero_grad() \n",
    "        # 2. get the predictions from the current state of the model\n",
    "        #    this is the forward pass\n",
    "        y_hat = model(X)\n",
    "        # 3. calculate the loss on the current mini-batch\n",
    "        loss = loss_fn(y_hat, y)\n",
    "        # 4. execute the backward pass given the current loss\n",
    "        loss.backward()\n",
    "        # 5. update the value of the params\n",
    "        optimizer.step()"
   ]
  },
  {
   "cell_type": "code",
   "execution_count": null,
   "metadata": {},
   "outputs": [],
   "source": [
    "def train_model(model, dataloader, loss_fn, optimizer, num_epochs, device):\n",
    "    # this is a useful switch that lets us pass to training phase to network evaluation\n",
    "    # we will see in a future lab why it is necessary - for now it does nothing in particular\n",
    "    model.train()\n",
    "    model.to(device)\n",
    "    for epoch in range(num_epochs):\n",
    "        train_epoch(model, dataloader, loss_fn, optimizer)\n",
    "        print(f\"Epoch {epoch+1} completed.\") # this is just so we have an idea on where we are during the training"
   ]
  },
  {
   "cell_type": "code",
   "execution_count": null,
   "metadata": {},
   "outputs": [],
   "source": [
    "train_model(model, trainloader, loss_fn, optimizer, num_epochs, device)"
   ]
  },
  {
   "cell_type": "markdown",
   "metadata": {},
   "source": [
    "The problem with this setting is that we have no idea how the network is faring, either on the training or the test set.\n",
    "\n",
    "We need to devise some ways to assess the model.\n",
    "\n",
    "Three ideas:\n",
    "\n",
    "1. Accumulate the loss for each epoch\n",
    "  * Alternatively, use the average loss per instance\n",
    "2. Show the mean accuracy for each epoch\n",
    "3. 1 and 2, but calculated on the test set\n",
    "\n",
    "1 is easily implementable, just introduce a variable to accumulate the loss during the epoch and print it at the end of the training.\n",
    "\n",
    "The average loss becomes a bit harder to implement.\n",
    "Without reinventing the wheel, what is usually done is to make use of an auxiliary structure, which is called `AverageMeter`, to keep track of the running metrics and quickly summarize them.\n",
    "Let' see how it's implemented:"
   ]
  },
  {
   "cell_type": "code",
   "execution_count": null,
   "metadata": {},
   "outputs": [],
   "source": [
    "class AverageMeter(object):\n",
    "    def __init__(self):\n",
    "        self.reset()\n",
    "\n",
    "    def reset(self):\n",
    "        self.val = 0 # val holds the current stat\n",
    "        self.avg = 0 # avg holds the cumulative average\n",
    "        self.sum = 0 # sum holds the cumulatie value\n",
    "        self.count = 0 # count holds the number of instances seen\n",
    "\n",
    "    def update(self, val, n=1):\n",
    "        self.val = val\n",
    "        self.sum += val * n\n",
    "        self.count += n\n",
    "        self.avg = self.sum / self.count"
   ]
  },
  {
   "cell_type": "markdown",
   "metadata": {},
   "source": [
    "at the start of each epoch, we are going to re-instantiate one `AverageMeter` for keeping track of the loss."
   ]
  },
  {
   "cell_type": "code",
   "execution_count": null,
   "metadata": {},
   "outputs": [],
   "source": [
    "def train_epoch(model, dataloader, loss_fn, optimizer, loss_meter):\n",
    "    for X, y in dataloader:\n",
    "        ##### MOVE DATA AND LABELS TO THE DESIRED DEVICE #####\n",
    "        X = X.to(device)\n",
    "        y = y.to(device)\n",
    "        # 1. reset the gradients previously accumulated by the optimizer\n",
    "        #    this will avoid re-using gradients from previous loops\n",
    "        optimizer.zero_grad() \n",
    "        # 2. get the predictions from the current state of the model\n",
    "        #    this is the forward pass\n",
    "        y_hat = model(X)\n",
    "        # 3. calculate the loss on the current mini-batch\n",
    "        loss = loss_fn(y_hat, y)\n",
    "        # 4. execute the backward pass given the current loss\n",
    "        loss.backward()\n",
    "        # 5. update the value of the params\n",
    "        optimizer.step()\n",
    "        # 6. update the loss meter\n",
    "        loss_meter.update(val=loss.item(), n=X.shape[0])\n",
    "\n",
    "def train_model(model, dataloader, loss_fn, optimizer, num_epochs, device):\n",
    "    model.train()\n",
    "    model.to(device)\n",
    "    for epoch in range(num_epochs):\n",
    "        loss_meter = AverageMeter()\n",
    "        train_epoch(model, dataloader, loss_fn, optimizer, loss_meter)\n",
    "        print(f\"Epoch {epoch+1} completed. Training loss: {loss_meter.avg}\")"
   ]
  },
  {
   "cell_type": "markdown",
   "metadata": {},
   "source": [
    "#### Assessing accuracy\n",
    "\n",
    "Usually, $\\text{loss} \\in [0;+\\infty)$, so it is hard to assess the effectiveness of the ANN based solely on such value.\n",
    "\n",
    "Alongside a loss, we can assess the performance via a much more interpretable index as the **accuracy**\n",
    "\n",
    "$\\text{accuracy} = \\frac{\\text{\\# correctly identified items}}{\\text{\\# all items}}$\n",
    "\n",
    "To keep track of the accuracy, we can re-use the AverageMeter defined above, although we need to define a function for it---since PT does not implement it by default."
   ]
  },
  {
   "cell_type": "code",
   "execution_count": null,
   "metadata": {},
   "outputs": [],
   "source": [
    "def accuracy(y_hat, y):\n",
    "    '''\n",
    "    y_hat is the model output - a Tensor of shape (n x num_classes)\n",
    "    y is the ground truth\n",
    "\n",
    "    How can we implement this function?\n",
    "    '''\n",
    "    classes_prediction = y_hat.argmax(dim=1)\n",
    "    match_ground_truth = classes_prediction == y # -> tensor of booleans\n",
    "    correct_matches = match_ground_truth.sum()\n",
    "    return (correct_matches / y_hat.shape[0]).item()\n",
    "    "
   ]
  },
  {
   "cell_type": "code",
   "execution_count": null,
   "metadata": {},
   "outputs": [],
   "source": [
    "def train_epoch(model, dataloader, loss_fn, optimizer, loss_meter, accuracy_meter):\n",
    "    for X, y in dataloader:\n",
    "        ##### MOVE DATA AND LABELS TO THE DESIRED DEVICE #####\n",
    "        X = X.to(device)\n",
    "        y = y.to(device)\n",
    "        # 1. reset the gradients previously accumulated by the optimizer\n",
    "        #    this will avoid re-using gradients from previous loops\n",
    "        optimizer.zero_grad()\n",
    "        # 2. get the predictions from the current state of the model\n",
    "        #    this is the forward pass\n",
    "        y_hat = model(X)\n",
    "        # 3. calculate the loss on the current mini-batch\n",
    "        loss = loss_fn(y_hat, y)\n",
    "        # 4. execute the backward pass given the current loss\n",
    "        loss.backward()\n",
    "        # 5. update the value of the params\n",
    "        optimizer.step()\n",
    "        # 6. calculate the accuracy for this mini-batch\n",
    "        acc = accuracy(y_hat, y)\n",
    "        # 7. update the loss and accuracy AverageMeter\n",
    "        loss_meter.update(val=loss.item(), n=X.shape[0])\n",
    "        accuracy_meter.update(val=acc, n=X.shape[0])\n",
    "\n",
    "def train_model(model, dataloader, loss_fn, optimizer, num_epochs):\n",
    "    model.train()\n",
    "    for epoch in range(num_epochs):\n",
    "        loss_meter = AverageMeter()\n",
    "        accuracy_meter = AverageMeter()\n",
    "        train_epoch(model, dataloader, loss_fn, optimizer, loss_meter, accuracy_meter)\n",
    "        # now with loss meter we can print both the cumulative value and the average value\n",
    "        print(f\"Epoch {epoch+1} completed. Loss - total: {loss_meter.sum} - average: {loss_meter.avg}; Accuracy: {accuracy_meter.avg}\")\n",
    "    # we also return the stats for the final epoch of training\n",
    "    return loss_meter.sum, accuracy_meter.avg"
   ]
  },
  {
   "cell_type": "markdown",
   "metadata": {},
   "source": [
    "*Additional observation*: we might wanna pass the `accuracy` as an additional `performance` parameter (analogous to `loss_fn`) since we might wanna evaluate the performance on a metric different than accuracy.\n",
    "\n",
    "Now, we can train the network and examine its performance as we're running the training"
   ]
  },
  {
   "cell_type": "code",
   "execution_count": null,
   "metadata": {},
   "outputs": [],
   "source": [
    "# reset the network and optimizer\n",
    "model = MLP()\n",
    "optimizer = torch.optim.SGD(model.parameters(), lr=learn_rate)\n",
    "\n",
    "loss, acc = train_model(model, trainloader, loss_fn, optimizer, num_epochs)\n",
    "print(f\"Training completed - final accuracy {acc} and loss {loss}\")"
   ]
  },
  {
   "cell_type": "markdown",
   "metadata": {},
   "source": [
    "Recall that we wanted to assess also the network's performance on the test set. We need an additional testing routine for it.\n",
    "\n",
    "For testing, we need only\n",
    "\n",
    "1. the network\n",
    "2. the test-set `DataLoader`\n",
    "3. the loss function / the performance metrics\n",
    "\n",
    "we don't need the optimizer as we're not updating the weights now\n"
   ]
  },
  {
   "cell_type": "code",
   "execution_count": null,
   "metadata": {},
   "outputs": [],
   "source": [
    "def test_model(model, dataloader, device, loss_fn=None,):\n",
    "    if loss_fn is not None:\n",
    "        loss_meter = AverageMeter()\n",
    "    acc_meter = AverageMeter()\n",
    "    model.eval() # this is the contrary of model.train() we saw before - equivalent to model.train(False)\n",
    "    model.to(device)\n",
    "    with torch.no_grad():\n",
    "        for X, y in dataloader:\n",
    "            X = X.to(device)\n",
    "            y = y.to(device)\n",
    "            y_hat = model(X)\n",
    "            loss = loss_fn(y_hat, y) if loss_fn is not None else None\n",
    "            acc = accuracy(y_hat, y)\n",
    "            if loss_fn is not None:\n",
    "                loss_meter.update(loss.item(), X.shape[0])\n",
    "            acc_meter.update(acc, X.shape[0])\n",
    "    print(f\"TESTING - loss {loss_meter.sum if loss_fn is not None else '--'} - accuracy {acc_meter.avg}\")\n"
   ]
  },
  {
   "cell_type": "code",
   "execution_count": null,
   "metadata": {},
   "outputs": [],
   "source": [
    "test_model(model, testloader)"
   ]
  },
  {
   "cell_type": "markdown",
   "metadata": {},
   "source": [
    "Now that we have nice-enough-looking training and testing routines and that we have trained and tested our model we might want to save it so we can re-use it in the future.\n",
    "\n",
    "The model can be easily saved using the `state_dict()` method"
   ]
  },
  {
   "cell_type": "markdown",
   "metadata": {},
   "source": [
    "We can save it using PT built-in `torch.save`"
   ]
  },
  {
   "cell_type": "code",
   "execution_count": null,
   "metadata": {},
   "outputs": [],
   "source": [
    "import os\n",
    "folder_save = \"models/mlp_mnist\"\n",
    "os.makedirs(folder_save, exist_ok=True)\n",
    "filename = os.path.join(folder_save, \"model.pt\")\n",
    "torch.save(model.state_dict(), filename)"
   ]
  },
  {
   "cell_type": "markdown",
   "metadata": {},
   "source": [
    "**Disclaimer**: **NEVER** save the model with `torch.save(model)`. See reason [here](https://pytorch.org/tutorials/beginner/saving_loading_models.html) and [here](https://stackoverflow.com/questions/57407939/pytorch-saving-model-or-state-dict-gives-different-on-disk-space-occupation).\n",
    "\n",
    "Let's suppose we wish to reload the state_dict. We just need one line of code: "
   ]
  },
  {
   "cell_type": "code",
   "execution_count": null,
   "metadata": {},
   "outputs": [],
   "source": [
    "model.load_state_dict(torch.load(filename))"
   ]
  },
  {
   "cell_type": "markdown",
   "metadata": {},
   "source": [
    "#### Saving a model mid-training\n",
    "\n",
    "Let's suppose we further need to train our model. Often times, storing only the weights may not be enough.\n",
    "\n",
    "Till now, we have only seen examples in which the training hyperparameters are static. Modern techniques, though, require dynamic hyperparameters to ensure good performance or generalization. You may have heard of optimizers such as ADAM or techniques such as learning rate annealing. Thus, in order to restore the training, we need to save a **checkpoint** so that we're able to re-start training at the exact same conditions we were in when it first ended^.\n",
    "\n",
    "For now, a checkpoint will be composed of the following objects:\n",
    "1. The `state_dict` of the model\n",
    "2. The state of the optimizer (which is also obtainable via a `state_dict` method---see code)\n",
    "3. The epochs trained, so that we can select the epoch to restart with\n",
    "4. (optionally) the iterations within the epoch, if we interrupted training mid-epoch (can be useful for very large models)\n",
    "5. If you're using a learning rate schedule (we'll see in a few labs what this is), also its state dict.\n",
    "\n",
    "\n",
    "^ *Note that, due to the intrinsic stochasticity of SGD, we may not actually be able to reproduce the exact same situation as before.*"
   ]
  },
  {
   "cell_type": "code",
   "execution_count": null,
   "metadata": {},
   "outputs": [],
   "source": [
    "checkpoint_dict = {\n",
    "    \"parameters\": model.state_dict(),\n",
    "    \"optimizer\": optimizer.state_dict(),\n",
    "    \"epoch\": ...,\n",
    "    \"iteration\": ...,\n",
    "    \"lr_scheduler\": ...\n",
    "}"
   ]
  },
  {
   "cell_type": "code",
   "execution_count": null,
   "metadata": {},
   "outputs": [],
   "source": [
    "# save\n",
    "filename = os.path.join(folder_save, \"checkpoint.pt\")\n",
    "torch.save(checkpoint_dict, filename)"
   ]
  },
  {
   "cell_type": "code",
   "execution_count": null,
   "metadata": {},
   "outputs": [],
   "source": [
    "# restore checkpoint\n",
    "checkpoint = torch.load(filename)\n",
    "model.load_state_dict(checkpoint[\"parameters\"])\n",
    "optimizer.load_state_dict(checkpoint[\"optimizer\"])"
   ]
  },
  {
   "cell_type": "markdown",
   "metadata": {},
   "source": [
    "In a setting where you wish to restart training, you may modify the `train_model` function by adding the argument `epoch_restart` and looping through epochs like this\n",
    "```python\n",
    "for epoch in range(epoch_restart, num_epochs):\n",
    "    # train loop\n",
    "```\n",
    "\n",
    "if training broken during a random iteration:\n",
    "\n",
    "```python\n",
    "for X, y in trainloader:\n",
    "    # what do I write here?\n",
    "```"
   ]
  },
  {
   "cell_type": "markdown",
   "metadata": {},
   "source": [
    "#### Training a model on custom loss functions\n",
    "\n",
    "We might want to fit our MLP using custom losses. Despite being the *de facto* choice for multiclass ML problems, Cross Entropy is not the single loss we can use.\n",
    "\n",
    "A very simple loss we may consider is the Quadratic Loss (QL) [1](https://www.semanticscholar.org/paper/Exploring-the-Role-of-Loss-Functions-in-Multiclass-Demirkaya-Chen/5c80d4ce2ce5e4f0b395969618cd76d35210e72c):\n",
    "\n",
    "$QL(\\hat{y}, y) = \\frac{1}{2}\\text{E}[\\vert\\vert y^{(\\text{one-hot})} - \\hat{y} \\vert\\vert^2] \n",
    " = \\frac{1}{2n}\\sum_{i=1}^{n} (\\vert\\vert y^{(\\text{one-hot})}_i - \\hat{y}_i \\vert\\vert)^2\n",
    " = \\frac{1}{2n}\\sum_{i=1}^{n}\\sum_{j=1}^{d}(y^{(\\text{one-hot})}_{i,j} - \\hat{y}_{i,j})^2$\n",
    "\n",
    "Where:\n",
    "* the one-hot encoding for $y=c$, where $c$ is a possible class out of $C$ classes, is the column vector whose elements are all $0$ beside the $c$-th entry, which is $1$;\n",
    "* with $\\hat{y}$ we mean the output of the model, i.e. a vector representing a probability distribution that a data point be assigned to each class.\n",
    "\n",
    "For instance, given a data point whose ANN output is $\\hat{y}=[0.3, 0.2, 0.4, 0.1]^\\top$ and the ground truth is $y=3$, the QL for this point is\n",
    "\n",
    "$0.5\\cdot \\vert\\vert[0, 0, 1, 0]^\\top - [0.3, 0.2, 0.4, 0.1]^\\top\\vert\\vert^2 = 0.5\\cdot \\vert\\vert[-0.3, -0.2, 0.6, -0.1]^\\top\\vert\\vert^2\n",
    "= 0.5\\cdot (0.09 + 0.04 + 0.36 + 0.01) = 0.5\\cdot 0.5 = 0.25$\n",
    "\n",
    "Let us implement this loss function in PT"
   ]
  },
  {
   "cell_type": "code",
   "execution_count": null,
   "metadata": {},
   "outputs": [],
   "source": [
    "y = torch.Tensor([0,1,2,3,0,0]).long()\n",
    "y_onehot = torch.nn.functional.one_hot(y, num_classes=5)\n",
    "print(y_onehot)\n",
    "print(\"Shape\", y_onehot.shape)"
   ]
  },
  {
   "cell_type": "code",
   "execution_count": null,
   "metadata": {},
   "outputs": [],
   "source": [
    "def quadratic_loss(y_hat, y):\n",
    "    '''\n",
    "    y_hat is a matrix of dimension (n x C),\n",
    "    where C is the number of classes, and n is the number of datapoints\n",
    "    y is a vector of classes\n",
    "    '''\n",
    "    # convert y to onehot\n",
    "    y_onehot = torch.nn.functional.one_hot(y.long())\n",
    "    y_hat = y_hat ##HERE WE MUST DO SOMETHING WITH OUR DATA DEPENDING ON THE FINAL ACTIVATION FUNCTION OF OUR MODEL\n",
    "    norm = (y_onehot - y_hat.exp()).norm(dim=1)**2\n",
    "    norm_sum = norm.sum()\n",
    "    return norm_sum / (2*y_hat.shape[1])"
   ]
  },
  {
   "cell_type": "markdown",
   "metadata": {},
   "source": [
    "Let's be more PyTorch-ian:"
   ]
  },
  {
   "cell_type": "code",
   "execution_count": null,
   "metadata": {},
   "outputs": [],
   "source": [
    "class QLoss(nn.Module):\n",
    "    def __init__(self):\n",
    "        super().__init__()\n",
    "\n",
    "    def forward(self, y_hat, y):\n",
    "        y_onehot = torch.nn.functional.one_hot(y.long())\n",
    "        norm_square = (y_onehot - y_hat.exp()).norm(dim=1)**2\n",
    "        norm_sum = norm_square.sum()\n",
    "    \n"
   ]
  },
  {
   "cell_type": "code",
   "execution_count": null,
   "metadata": {},
   "outputs": [],
   "source": [
    "learn_rate = 0.1\n",
    "num_epochs = 3\n",
    "\n",
    "model = MLP()\n",
    "loss_fn = quadratic_loss\n",
    "optimizer = torch.optim.SGD(model.parameters(), lr=learn_rate)"
   ]
  },
  {
   "cell_type": "code",
   "execution_count": null,
   "metadata": {},
   "outputs": [],
   "source": [
    "train_model(model, trainloader, loss_fn, optimizer, num_epochs)"
   ]
  },
  {
   "cell_type": "markdown",
   "metadata": {},
   "source": [
    "**Q**: how were we able to train the network on our custom loss even if we never told PT how to compute the backward pass on it (i.e., how to compute its gradient)?"
   ]
  },
  {
   "cell_type": "markdown",
   "metadata": {},
   "source": [
    "### Custom activation functions\n",
    "\n",
    "Let us suppose we wish to add a custom activation function to our network, for example, the sine function.\n",
    "\n",
    "We'll quickly discover that we can't just add a functional representation of it to our `Sequential`. Let's try it"
   ]
  },
  {
   "cell_type": "code",
   "execution_count": null,
   "metadata": {},
   "outputs": [],
   "source": [
    "class SineNN(torch.nn.Module):\n",
    "    def __init__(self):\n",
    "        super().__init__()\n",
    "        self.structure = torch.nn.Sequential(\n",
    "            torch.nn.Linear(2, 2),\n",
    "            torch.sin # this won't work!\n",
    "        )\n",
    "    \n",
    "    def forward(self, X):\n",
    "        return self.structure(X)\n",
    "\n",
    "nn = SineNN()"
   ]
  },
  {
   "cell_type": "markdown",
   "metadata": {},
   "source": [
    "In fact, PyTorch is complaining that the sin module is not inheriting from `torch.nn.Module`, which it needs to do. So, we only need to wrap `torch.sin` in a class like so."
   ]
  },
  {
   "cell_type": "code",
   "execution_count": null,
   "metadata": {},
   "outputs": [],
   "source": [
    "class Sin(torch.nn.Module):\n",
    "    # it needs to have at least a constructor and a forward method, just like an MLP\n",
    "    def __init__(self): \n",
    "        super().__init__()\n",
    "        # no additional stuff to do here as Sin has no additional parameters to set\n",
    "    \n",
    "    def forward(self, X):\n",
    "        return torch.sin(X)"
   ]
  },
  {
   "cell_type": "code",
   "execution_count": null,
   "metadata": {},
   "outputs": [],
   "source": [
    "# it will not produce an exeption now\n",
    "class SineNN(torch.nn.Module):\n",
    "    def __init__(self):\n",
    "        super().__init__()\n",
    "        self.structure = torch.nn.Sequential(\n",
    "            torch.nn.Linear(2, 2),\n",
    "            Sin()\n",
    "        )\n",
    "    \n",
    "    def forward(self, X):\n",
    "        return self.structure(X)\n",
    "\n",
    "nn = SineNN()"
   ]
  },
  {
   "cell_type": "markdown",
   "metadata": {},
   "source": [
    "**Homework** _(not compulsory)_\n",
    "\n",
    "- Reconstruct in PyTorch the first experiment in [Learning representations by back-propagating errors](https://www.nature.com/articles/323533a0) with learning rule in eq.8 (gradient descent without momentum---you can re-use `torch.optim.SGD` with the appropriate keyword)\n",
    "  - Try to be as close as possible to the original protocol, except for what regards the learning rule\n",
    "  - Read the paper, if you did not do it yet (don’t worry if you don’t understand the other experiments in detail)\n",
    "  - Create the data, the model and everything is needed (do not use dataloaders if you don’t know how yet how they work)\n",
    "  - Train the model\n",
    "  - Inspect the weights you obtained and check if they provide a solution to the problem\n",
    "  - Compare the solution to the solution reported in the paper\n",
    "Tip: don't expect to get a fully working implementation!\n",
    "\n",
    "\n",
    "Additional tips for implementing ANNs in PyTorch (will not be part of the exam): [PyTorch common mistakes, by Aladdin Person](https://youtu.be/O2wJ3tkc-TU)"
   ]
  },
  {
   "cell_type": "markdown",
   "metadata": {},
   "source": [
    "## References\n",
    "[1](https://www.semanticscholar.org/paper/Exploring-the-Role-of-Loss-Functions-in-Multiclass-Demirkaya-Chen/5c80d4ce2ce5e4f0b395969618cd76d35210e72c) A. Demirkaya, J. Chen and S. Oymak, \"Exploring the Role of Loss Functions in Multiclass Classification,\" 2020 54th Annual Conference on Information Sciences and Systems (CISS), Princeton, NJ, USA, 2020, pp. 1-5, doi: 10.1109/CISS48834.2020.1570627167."
   ]
  }
 ],
 "metadata": {
  "kernelspec": {
   "display_name": "Python 3",
   "language": "python",
   "name": "python3"
  },
  "language_info": {
   "codemirror_mode": {
    "name": "ipython",
    "version": 3
   },
   "file_extension": ".py",
   "mimetype": "text/x-python",
   "name": "python",
   "nbconvert_exporter": "python",
   "pygments_lexer": "ipython3",
   "version": "3.8.12"
  }
 },
 "nbformat": 4,
 "nbformat_minor": 2
}
